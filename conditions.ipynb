{
 "cells": [
  {
   "cell_type": "markdown",
   "id": "3206079a",
   "metadata": {},
   "source": [
    "## conditions and logical operations with binary syntax"
   ]
  },
  {
   "cell_type": "markdown",
   "id": "1712e843",
   "metadata": {},
   "source": [
    "##conditions are of 3types\n",
    "if\n",
    "else\n",
    "elif"
   ]
  },
  {
   "cell_type": "markdown",
   "id": "3f4af42d",
   "metadata": {},
   "source": [
    "## syntax \n",
    "\n",
    "        "
   ]
  },
  {
   "cell_type": "code",
   "execution_count": null,
   "id": "9e3837a2",
   "metadata": {},
   "outputs": [],
   "source": [
    "if condition:\n",
    "    statement\n",
    "elif condition1:\n",
    "    statement1\n",
    "elif condition2:\n",
    "    statement2\n",
    "elif condition3:\n",
    "    statement3\n",
    "else:\n",
    "    end the statement"
   ]
  },
  {
   "cell_type": "code",
   "execution_count": 3,
   "id": "d61082fa",
   "metadata": {},
   "outputs": [
    {
     "name": "stdout",
     "output_type": "stream",
     "text": [
      "20\n"
     ]
    }
   ],
   "source": [
    "a=10\n",
    "b=20\n",
    "c=a+b\n",
    "if a>b:\n",
    "    print(c)\n",
    "elif a<b:\n",
    "    print(b)\n",
    "elif a!=b:\n",
    "    print(c)\n",
    "else:\n",
    "    print(\"enter the value:\")"
   ]
  },
  {
   "cell_type": "code",
   "execution_count": 1,
   "id": "0570d0ec",
   "metadata": {},
   "outputs": [
    {
     "name": "stdout",
     "output_type": "stream",
     "text": [
      "b is grt than a\n"
     ]
    }
   ],
   "source": [
    "a=10\n",
    "b=20\n",
    "if a>b:\n",
    "    print(\"a is grt than b\")\n",
    "elif b>a:\n",
    "    print(\"b is grt than a\")\n"
   ]
  },
  {
   "cell_type": "code",
   "execution_count": 2,
   "id": "719c5b1b",
   "metadata": {},
   "outputs": [
    {
     "name": "stdout",
     "output_type": "stream",
     "text": [
      "1010\n"
     ]
    }
   ],
   "source": [
    "number=10\n",
    "a=f'{number:b}'\n",
    "print(a)"
   ]
  },
  {
   "cell_type": "code",
   "execution_count": 9,
   "id": "32f40078",
   "metadata": {},
   "outputs": [
    {
     "name": "stdout",
     "output_type": "stream",
     "text": [
      "11110\n"
     ]
    }
   ],
   "source": [
    "number2=30\n",
    "b=f'{number2:0b}'\n",
    "print(b)\n"
   ]
  },
  {
   "cell_type": "code",
   "execution_count": 7,
   "id": "3a4676e8",
   "metadata": {},
   "outputs": [
    {
     "name": "stdout",
     "output_type": "stream",
     "text": [
      "0000011110\n"
     ]
    }
   ],
   "source": [
    "number3=30\n",
    "c=f'{number3:010b}'\n",
    "print(c)"
   ]
  },
  {
   "cell_type": "markdown",
   "id": "e081c87a",
   "metadata": {},
   "source": [
    "## and or operation "
   ]
  },
  {
   "cell_type": "code",
   "execution_count": 12,
   "id": "9cf7e83c",
   "metadata": {},
   "outputs": [
    {
     "name": "stdout",
     "output_type": "stream",
     "text": [
      "10\n"
     ]
    }
   ],
   "source": [
    "a=10\n",
    "b=20\n",
    "if a==10 or b==20:\n",
    "    print(a)"
   ]
  },
  {
   "cell_type": "code",
   "execution_count": 18,
   "id": "e17a82cd",
   "metadata": {},
   "outputs": [
    {
     "name": "stdout",
     "output_type": "stream",
     "text": [
      "this is and condition\n"
     ]
    }
   ],
   "source": [
    "if a==20 and a==20:\n",
    "    print(a)\n",
    "else:\n",
    "    print(\"this is and condition\")"
   ]
  },
  {
   "cell_type": "markdown",
   "id": "a0ccdbea",
   "metadata": {},
   "source": [
    "## calculater"
   ]
  },
  {
   "cell_type": "code",
   "execution_count": 24,
   "id": "6881e626",
   "metadata": {},
   "outputs": [
    {
     "ename": "SyntaxError",
     "evalue": "unterminated string literal (detected at line 3) (181478384.py, line 3)",
     "output_type": "error",
     "traceback": [
      "\u001b[1;36m  Cell \u001b[1;32mIn[24], line 3\u001b[1;36m\u001b[0m\n\u001b[1;33m    operations=input(\"enter a operation\",('+'','-','*','%','/','//'))\u001b[0m\n\u001b[1;37m                                                                  ^\u001b[0m\n\u001b[1;31mSyntaxError\u001b[0m\u001b[1;31m:\u001b[0m unterminated string literal (detected at line 3)\n"
     ]
    }
   ],
   "source": [
    "a=int(input(\"enter a value\"))\n",
    "b=int(input(\"enter b value\"))\n",
    "operations=input(\"enter a operation\",('+'','-','*','%','/','//'))\n",
    "\n",
    "if operations==\"+\":\n",
    "    print(\"here we are performing addition operation\",a+b)\n",
    "elif operations==\"-\":\n",
    "    print(\"here we are performing subtraction operation\",a-b)\n",
    "elif operations==\"*\":\n",
    "    print(\"here we are performing multiplication operation\",a*b)\n",
    "elif operations==\"/\":\n",
    "    print(\"here we are performing division operation\",a/b)\n",
    "elif operations==\"//\":\n",
    "    print(\"here we are performing division operation without decimal point\",a//b)\n",
    "elif operations==\"%\":\n",
    "    print(\"here we are performing modular operations without decimal point\",a%b)\n",
    "else:\n",
    "    print(\"please enter the valid operation\")\n",
    "    "
   ]
  },
  {
   "cell_type": "code",
   "execution_count": null,
   "id": "a4663d0e",
   "metadata": {},
   "outputs": [],
   "source": []
  }
 ],
 "metadata": {
  "kernelspec": {
   "display_name": "Python 3 (ipykernel)",
   "language": "python",
   "name": "python3"
  },
  "language_info": {
   "codemirror_mode": {
    "name": "ipython",
    "version": 3
   },
   "file_extension": ".py",
   "mimetype": "text/x-python",
   "name": "python",
   "nbconvert_exporter": "python",
   "pygments_lexer": "ipython3",
   "version": "3.10.9"
  }
 },
 "nbformat": 4,
 "nbformat_minor": 5
}
