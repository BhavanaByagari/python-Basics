{
 "cells": [
  {
   "cell_type": "code",
   "execution_count": 1,
   "id": "f971a732",
   "metadata": {},
   "outputs": [],
   "source": [
    "list=[\"bhavana\",\"car\",\"bike\",\"match\",\"holiday\",\"college\"]"
   ]
  },
  {
   "cell_type": "code",
   "execution_count": 2,
   "id": "deff47ae",
   "metadata": {},
   "outputs": [
    {
     "data": {
      "text/plain": [
       "['bhavana', 'car', 'bike', 'match', 'holiday', 'college']"
      ]
     },
     "execution_count": 2,
     "metadata": {},
     "output_type": "execute_result"
    }
   ],
   "source": [
    "list"
   ]
  },
  {
   "cell_type": "code",
   "execution_count": 3,
   "id": "f5641a2c",
   "metadata": {},
   "outputs": [
    {
     "data": {
      "text/plain": [
       "'bhavana'"
      ]
     },
     "execution_count": 3,
     "metadata": {},
     "output_type": "execute_result"
    }
   ],
   "source": [
    "list[0]"
   ]
  },
  {
   "cell_type": "code",
   "execution_count": 4,
   "id": "7f271673",
   "metadata": {},
   "outputs": [],
   "source": [
    "a=(\"a\",\"b\",\"c\",\"d\",\"e\",\"f\",\"g\")"
   ]
  },
  {
   "cell_type": "code",
   "execution_count": 5,
   "id": "e8061b26",
   "metadata": {},
   "outputs": [
    {
     "data": {
      "text/plain": [
       "('a', 'b', 'c', 'd', 'e', 'f', 'g')"
      ]
     },
     "execution_count": 5,
     "metadata": {},
     "output_type": "execute_result"
    }
   ],
   "source": [
    "a"
   ]
  },
  {
   "cell_type": "code",
   "execution_count": 6,
   "id": "24a23b7b",
   "metadata": {},
   "outputs": [],
   "source": [
    "b={1,2,3,4,5,6,7,8}"
   ]
  },
  {
   "cell_type": "code",
   "execution_count": 7,
   "id": "2c275b25",
   "metadata": {},
   "outputs": [],
   "source": [
    "set={1,2,3,4,5,6,7,8,9,10}"
   ]
  },
  {
   "cell_type": "code",
   "execution_count": 8,
   "id": "7e675a81",
   "metadata": {},
   "outputs": [],
   "source": [
    "dic={\"key\":\"value\",\"key1\":\"value2\",\"key\":\"value2\"}"
   ]
  },
  {
   "cell_type": "code",
   "execution_count": 16,
   "id": "7bb7abab",
   "metadata": {},
   "outputs": [],
   "source": [
    "bhavana={\"name\":\"bhavana\",\"email\":\"bhavanayalala@gmail.com\",\"college\":\"kmics\",\"country\":\"Indian\"}"
   ]
  },
  {
   "cell_type": "code",
   "execution_count": 17,
   "id": "8060c1cd",
   "metadata": {},
   "outputs": [
    {
     "data": {
      "text/plain": [
       "{'name': 'bhavana',\n",
       " 'email': 'bhavanayalala@gmail.com',\n",
       " 'college': 'kmics',\n",
       " 'country': 'Indian'}"
      ]
     },
     "execution_count": 17,
     "metadata": {},
     "output_type": "execute_result"
    }
   ],
   "source": [
    "bhavana"
   ]
  },
  {
   "cell_type": "code",
   "execution_count": 18,
   "id": "5d9caa2a",
   "metadata": {},
   "outputs": [
    {
     "data": {
      "text/plain": [
       "dict_values(['bhavana', 'bhavanayalala@gmail.com', 'kmics', 'Indian'])"
      ]
     },
     "execution_count": 18,
     "metadata": {},
     "output_type": "execute_result"
    }
   ],
   "source": [
    "bhavana.values()"
   ]
  },
  {
   "cell_type": "code",
   "execution_count": 19,
   "id": "8ddd487a",
   "metadata": {},
   "outputs": [
    {
     "data": {
      "text/plain": [
       "dict_keys(['name', 'email', 'college', 'country'])"
      ]
     },
     "execution_count": 19,
     "metadata": {},
     "output_type": "execute_result"
    }
   ],
   "source": [
    "bhavana.keys()"
   ]
  },
  {
   "cell_type": "code",
   "execution_count": 20,
   "id": "11c4e854",
   "metadata": {},
   "outputs": [
    {
     "data": {
      "text/plain": [
       "dict"
      ]
     },
     "execution_count": 20,
     "metadata": {},
     "output_type": "execute_result"
    }
   ],
   "source": [
    "type(bhavana)"
   ]
  },
  {
   "cell_type": "code",
   "execution_count": 23,
   "id": "f2707a7c",
   "metadata": {
    "scrolled": true
   },
   "outputs": [
    {
     "data": {
      "text/plain": [
       "{'name': 'bhavana',\n",
       " 'email': 'bhavanayalala@gmail.com',\n",
       " 'college': 'kmics',\n",
       " 'country': 'Indian',\n",
       " 0: 'vinay'}"
      ]
     },
     "execution_count": 23,
     "metadata": {},
     "output_type": "execute_result"
    }
   ],
   "source": [
    "bhavana"
   ]
  },
  {
   "cell_type": "code",
   "execution_count": 34,
   "id": "3565c599",
   "metadata": {},
   "outputs": [],
   "source": [
    "bhavana[\"designation\"]=\"analyst\""
   ]
  },
  {
   "cell_type": "code",
   "execution_count": 35,
   "id": "e324be9e",
   "metadata": {},
   "outputs": [
    {
     "data": {
      "text/plain": [
       "{'name': 'bhavana',\n",
       " 'email': 'bhavanayalala@gmail.com',\n",
       " 'college': 'kmics',\n",
       " 'country': 'Indian',\n",
       " 0: 'vinay',\n",
       " 1: 'analyst',\n",
       " 2: 'coffee',\n",
       " 'season': 'summer',\n",
       " 'designation': 'analyst'}"
      ]
     },
     "execution_count": 35,
     "metadata": {},
     "output_type": "execute_result"
    }
   ],
   "source": [
    "bhavana"
   ]
  },
  {
   "cell_type": "code",
   "execution_count": 36,
   "id": "1bd58b93",
   "metadata": {},
   "outputs": [],
   "source": [
    "bhavana[\"beverege\"]=\"coffee\""
   ]
  },
  {
   "cell_type": "code",
   "execution_count": 37,
   "id": "541d47ab",
   "metadata": {},
   "outputs": [
    {
     "data": {
      "text/plain": [
       "{'name': 'bhavana',\n",
       " 'email': 'bhavanayalala@gmail.com',\n",
       " 'college': 'kmics',\n",
       " 'country': 'Indian',\n",
       " 0: 'vinay',\n",
       " 1: 'analyst',\n",
       " 2: 'coffee',\n",
       " 'season': 'summer',\n",
       " 'designation': 'analyst',\n",
       " 'beverege': 'coffee'}"
      ]
     },
     "execution_count": 37,
     "metadata": {},
     "output_type": "execute_result"
    }
   ],
   "source": [
    "bhavana"
   ]
  },
  {
   "cell_type": "code",
   "execution_count": 32,
   "id": "5d3913d9",
   "metadata": {},
   "outputs": [],
   "source": [
    "bhavana[\"season\"]=\"summer\""
   ]
  },
  {
   "cell_type": "code",
   "execution_count": 33,
   "id": "f3e1ee4c",
   "metadata": {},
   "outputs": [
    {
     "data": {
      "text/plain": [
       "{'name': 'bhavana',\n",
       " 'email': 'bhavanayalala@gmail.com',\n",
       " 'college': 'kmics',\n",
       " 'country': 'Indian',\n",
       " 0: 'vinay',\n",
       " 1: 'analyst',\n",
       " 2: 'coffee',\n",
       " 'season': 'summer'}"
      ]
     },
     "execution_count": 33,
     "metadata": {},
     "output_type": "execute_result"
    }
   ],
   "source": [
    "bhavana"
   ]
  },
  {
   "cell_type": "code",
   "execution_count": 38,
   "id": "1a6b47e8",
   "metadata": {},
   "outputs": [],
   "source": [
    "t=(\"bhavana\",\"book\",\"city\",\"car\",\"friend\",\"college\")"
   ]
  },
  {
   "cell_type": "code",
   "execution_count": 39,
   "id": "a50f273e",
   "metadata": {},
   "outputs": [
    {
     "data": {
      "text/plain": [
       "('bhavana', 'book', 'city', 'car', 'friend', 'college')"
      ]
     },
     "execution_count": 39,
     "metadata": {},
     "output_type": "execute_result"
    }
   ],
   "source": [
    "t"
   ]
  },
  {
   "cell_type": "code",
   "execution_count": 44,
   "id": "d973e4f3",
   "metadata": {},
   "outputs": [
    {
     "ename": "TypeError",
     "evalue": "'tuple' object does not support item assignment",
     "output_type": "error",
     "traceback": [
      "\u001b[1;31m---------------------------------------------------------------------------\u001b[0m",
      "\u001b[1;31mTypeError\u001b[0m                                 Traceback (most recent call last)",
      "Cell \u001b[1;32mIn[44], line 1\u001b[0m\n\u001b[1;32m----> 1\u001b[0m t[\u001b[38;5;241m0\u001b[39m]\u001b[38;5;241m=\u001b[39m\u001b[38;5;124m\"\u001b[39m\u001b[38;5;124mkrishna\u001b[39m\u001b[38;5;124m\"\u001b[39m\n",
      "\u001b[1;31mTypeError\u001b[0m: 'tuple' object does not support item assignment"
     ]
    }
   ],
   "source": [
    "t[0]=\"krishna\""
   ]
  },
  {
   "cell_type": "code",
   "execution_count": 45,
   "id": "85c7dd1a",
   "metadata": {},
   "outputs": [],
   "source": [
    "t=[\"bhavana\",\"book\",\"city\",\"car\",\"friend\",\"college\"]"
   ]
  },
  {
   "cell_type": "code",
   "execution_count": 46,
   "id": "fe86d7db",
   "metadata": {},
   "outputs": [
    {
     "data": {
      "text/plain": [
       "['bhavana', 'book', 'city', 'car', 'friend', 'college']"
      ]
     },
     "execution_count": 46,
     "metadata": {},
     "output_type": "execute_result"
    }
   ],
   "source": [
    "t"
   ]
  },
  {
   "cell_type": "code",
   "execution_count": 47,
   "id": "11fe9fd2",
   "metadata": {},
   "outputs": [],
   "source": [
    "t[0]=\"krishna\""
   ]
  },
  {
   "cell_type": "code",
   "execution_count": 48,
   "id": "d188dfd8",
   "metadata": {},
   "outputs": [
    {
     "data": {
      "text/plain": [
       "['krishna', 'book', 'city', 'car', 'friend', 'college']"
      ]
     },
     "execution_count": 48,
     "metadata": {},
     "output_type": "execute_result"
    }
   ],
   "source": [
    "t"
   ]
  },
  {
   "cell_type": "code",
   "execution_count": 49,
   "id": "14ab78b1",
   "metadata": {},
   "outputs": [],
   "source": [
    "t[5]=\"holiday\""
   ]
  },
  {
   "cell_type": "code",
   "execution_count": 50,
   "id": "1e742f33",
   "metadata": {},
   "outputs": [
    {
     "data": {
      "text/plain": [
       "['krishna', 'book', 'city', 'car', 'friend', 'holiday']"
      ]
     },
     "execution_count": 50,
     "metadata": {},
     "output_type": "execute_result"
    }
   ],
   "source": [
    "t"
   ]
  },
  {
   "cell_type": "markdown",
   "id": "81600f98",
   "metadata": {},
   "source": [
    "###filing"
   ]
  },
  {
   "cell_type": "code",
   "execution_count": 7,
   "id": "0b65461a",
   "metadata": {},
   "outputs": [],
   "source": [
    "f=open(\"bhavana.txt\",\"w\")"
   ]
  },
  {
   "cell_type": "code",
   "execution_count": 8,
   "id": "4e4cbf58",
   "metadata": {},
   "outputs": [
    {
     "data": {
      "text/plain": [
       "65"
      ]
     },
     "execution_count": 8,
     "metadata": {},
     "output_type": "execute_result"
    }
   ],
   "source": [
    "f.write(\"this is my first file written in jyputer notebook on 1-april-2023\")"
   ]
  },
  {
   "cell_type": "code",
   "execution_count": 9,
   "id": "86cc19ef",
   "metadata": {},
   "outputs": [],
   "source": [
    "f.close()"
   ]
  },
  {
   "cell_type": "code",
   "execution_count": null,
   "id": "40cbcc92",
   "metadata": {},
   "outputs": [],
   "source": []
  }
 ],
 "metadata": {
  "kernelspec": {
   "display_name": "Python 3 (ipykernel)",
   "language": "python",
   "name": "python3"
  },
  "language_info": {
   "codemirror_mode": {
    "name": "ipython",
    "version": 3
   },
   "file_extension": ".py",
   "mimetype": "text/x-python",
   "name": "python",
   "nbconvert_exporter": "python",
   "pygments_lexer": "ipython3",
   "version": "3.10.9"
  }
 },
 "nbformat": 4,
 "nbformat_minor": 5
}
