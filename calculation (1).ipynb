{
 "cells": [
  {
   "cell_type": "markdown",
   "id": "3206079a",
   "metadata": {},
   "source": [
    "## conditions and logical operations with binary syntax"
   ]
  },
  {
   "cell_type": "markdown",
   "id": "1712e843",
   "metadata": {},
   "source": [
    "##conditions are of 3types\n",
    "if\n",
    "else\n",
    "elif"
   ]
  },
  {
   "cell_type": "markdown",
   "id": "af1613d7",
   "metadata": {},
   "source": [
    "## syntax \n",
    "\n",
    "        "
   ]
  },
  {
   "cell_type": "code",
   "execution_count": null,
   "id": "e98f4146",
   "metadata": {},
   "outputs": [],
   "source": [
    "if condition:\n",
    "    statement\n",
    "elif condition1:\n",
    "    statement1\n",
    "elif condition2:\n",
    "    statement2\n",
    "elif condition3:\n",
    "    statement3\n",
    "else:\n",
    "    end the statement"
   ]
  },
  {
   "cell_type": "code",
   "execution_count": 3,
   "id": "d61082fa",
   "metadata": {},
   "outputs": [
    {
     "name": "stdout",
     "output_type": "stream",
     "text": [
      "20\n"
     ]
    }
   ],
   "source": [
    "a=10\n",
    "b=20\n",
    "c=a+b\n",
    "if a>b:\n",
    "    print(c)\n",
    "elif a<b:\n",
    "    print(b)\n",
    "elif a!=b:\n",
    "    print(c)\n",
    "else:\n",
    "    print(\"enter the value:\")"
   ]
  },
  {
   "cell_type": "code",
   "execution_count": 1,
   "id": "0570d0ec",
   "metadata": {},
   "outputs": [
    {
     "name": "stdout",
     "output_type": "stream",
     "text": [
      "b is grt than a\n"
     ]
    }
   ],
   "source": [
    "a=10\n",
    "b=20\n",
    "if a>b:\n",
    "    print(\"a is grt than b\")\n",
    "elif b>a:\n",
    "    print(\"b is grt than a\")\n"
   ]
  },
  {
   "cell_type": "code",
   "execution_count": 2,
   "id": "cacd3ad4",
   "metadata": {},
   "outputs": [
    {
     "name": "stdout",
     "output_type": "stream",
     "text": [
      "1010\n"
     ]
    }
   ],
   "source": [
    "number=10\n",
    "a=f'{number:b}'\n",
    "print(a)"
   ]
  },
  {
   "cell_type": "code",
   "execution_count": 9,
   "id": "6eb9a077",
   "metadata": {},
   "outputs": [
    {
     "name": "stdout",
     "output_type": "stream",
     "text": [
      "11110\n"
     ]
    }
   ],
   "source": [
    "number2=30\n",
    "b=f'{number2:0b}'\n",
    "print(b)\n"
   ]
  },
  {
   "cell_type": "code",
   "execution_count": 7,
   "id": "0f281722",
   "metadata": {},
   "outputs": [
    {
     "name": "stdout",
     "output_type": "stream",
     "text": [
      "0000011110\n"
     ]
    }
   ],
   "source": [
    "number3=30\n",
    "c=f'{number3:010b}'\n",
    "print(c)"
   ]
  },
  {
   "cell_type": "markdown",
   "id": "270dd0ca",
   "metadata": {},
   "source": [
    "## and or operation "
   ]
  },
  {
   "cell_type": "code",
   "execution_count": 12,
   "id": "cf748d61",
   "metadata": {},
   "outputs": [
    {
     "name": "stdout",
     "output_type": "stream",
     "text": [
      "10\n"
     ]
    }
   ],
   "source": [
    "a=10\n",
    "b=20\n",
    "if a==10 or b==20:\n",
    "    print(a)"
   ]
  },
  {
   "cell_type": "code",
   "execution_count": 18,
   "id": "42cb13d5",
   "metadata": {},
   "outputs": [
    {
     "name": "stdout",
     "output_type": "stream",
     "text": [
      "this is and condition\n"
     ]
    }
   ],
   "source": [
    "if a==20 and a==20:\n",
    "    print(a)\n",
    "else:\n",
    "    print(\"this is and condition\")"
   ]
  },
  {
   "cell_type": "markdown",
   "id": "b02a8a35",
   "metadata": {},
   "source": [
    "## calculater"
   ]
  },
  {
   "cell_type": "code",
   "execution_count": null,
   "id": "4fa577e0",
   "metadata": {},
   "outputs": [],
   "source": [
    "a=int(input(\"enter a value\"))\n",
    "b=int(input(\"enter b value\"))\n",
    "operations=input(\"enter a operation:,('+','-','*','%','/','//')\")\n",
    "\n",
    "if operations==\"+\":\n",
    "    print(\"here we are performing addition operation\",a+b)\n",
    "elif operations==\"-\":\n",
    "    print(\"here we are performing subtraction operation\",a-b)\n",
    "elif operations==\"*\":\n",
    "    print(\"here we are performing multiplication operation\",a*b)\n",
    "elif operations==\"/\":\n",
    "    print(\"here we are performing division operation\",a/b)\n",
    "elif operations==\"//\":\n",
    "    print(\"here we are performing division operation without decimal point\",a//b)\n",
    "elif operations==\"%\":\n",
    "    print(\"here we are performing modular operations without decimal point\",a%b)\n",
    "else:\n",
    "    print(\"please enter the valid operation\")\n",
    "    \n",
    "    "
   ]
  },
  {
   "cell_type": "code",
   "execution_count": null,
   "id": "c336d7f7",
   "metadata": {},
   "outputs": [],
   "source": []
  }
 ],
 "metadata": {
  "kernelspec": {
   "display_name": "Python 3 (ipykernel)",
   "language": "python",
   "name": "python3"
  },
  "language_info": {
   "codemirror_mode": {
    "name": "ipython",
    "version": 3
   },
   "file_extension": ".py",
   "mimetype": "text/x-python",
   "name": "python",
   "nbconvert_exporter": "python",
   "pygments_lexer": "ipython3",
   "version": "3.10.9"
  }
 },
 "nbformat": 4,
 "nbformat_minor": 5
}
