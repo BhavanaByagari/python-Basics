{
 "cells": [
  {
   "cell_type": "code",
   "execution_count": null,
   "id": "6dc38d2e",
   "metadata": {},
   "outputs": [],
   "source": [
    "strings = \"Bhavana\""
   ]
  },
  {
   "cell_type": "code",
   "execution_count": 2,
   "id": "8c62521f",
   "metadata": {},
   "outputs": [],
   "source": [
    "name= \"Bhavana\"\n"
   ]
  },
  {
   "cell_type": "code",
   "execution_count": 5,
   "id": "c70ac1d8",
   "metadata": {},
   "outputs": [
    {
     "data": {
      "text/plain": [
       "'Bhavana'"
      ]
     },
     "execution_count": 5,
     "metadata": {},
     "output_type": "execute_result"
    }
   ],
   "source": [
    "name"
   ]
  },
  {
   "cell_type": "code",
   "execution_count": 6,
   "id": "5883aca1",
   "metadata": {},
   "outputs": [],
   "source": [
    "string = \"kmics\""
   ]
  },
  {
   "cell_type": "code",
   "execution_count": 7,
   "id": "2ac61c7a",
   "metadata": {},
   "outputs": [],
   "source": [
    "collegename= \"kmics\""
   ]
  },
  {
   "cell_type": "code",
   "execution_count": 8,
   "id": "f8eeb137",
   "metadata": {},
   "outputs": [
    {
     "data": {
      "text/plain": [
       "'kmics'"
      ]
     },
     "execution_count": 8,
     "metadata": {},
     "output_type": "execute_result"
    }
   ],
   "source": [
    "collegename"
   ]
  },
  {
   "cell_type": "code",
   "execution_count": 14,
   "id": "834b871a",
   "metadata": {},
   "outputs": [],
   "source": [
    "bmw= \"x1\""
   ]
  },
  {
   "cell_type": "code",
   "execution_count": 15,
   "id": "b56cc81d",
   "metadata": {},
   "outputs": [
    {
     "data": {
      "text/plain": [
       "'x1'"
      ]
     },
     "execution_count": 15,
     "metadata": {},
     "output_type": "execute_result"
    }
   ],
   "source": [
    "bmw"
   ]
  },
  {
   "cell_type": "markdown",
   "id": "068aa194",
   "metadata": {},
   "source": []
  },
  {
   "cell_type": "code",
   "execution_count": 16,
   "id": "6bc4098f",
   "metadata": {},
   "outputs": [],
   "source": [
    "program= \"R\""
   ]
  },
  {
   "cell_type": "code",
   "execution_count": 17,
   "id": "73db9c38",
   "metadata": {},
   "outputs": [
    {
     "data": {
      "text/plain": [
       "'R'"
      ]
     },
     "execution_count": 17,
     "metadata": {},
     "output_type": "execute_result"
    }
   ],
   "source": [
    "program"
   ]
  },
  {
   "cell_type": "code",
   "execution_count": 18,
   "id": "c05490c4",
   "metadata": {},
   "outputs": [],
   "source": [
    "phone= \"vivo\""
   ]
  },
  {
   "cell_type": "code",
   "execution_count": 19,
   "id": "5323b5d0",
   "metadata": {},
   "outputs": [
    {
     "data": {
      "text/plain": [
       "'vivo'"
      ]
     },
     "execution_count": 19,
     "metadata": {},
     "output_type": "execute_result"
    }
   ],
   "source": [
    "phone"
   ]
  },
  {
   "cell_type": "code",
   "execution_count": 20,
   "id": "e46437ce",
   "metadata": {},
   "outputs": [],
   "source": [
    "fruit= \"pineapple\""
   ]
  },
  {
   "cell_type": "code",
   "execution_count": 21,
   "id": "0df06852",
   "metadata": {},
   "outputs": [
    {
     "data": {
      "text/plain": [
       "'pineapple'"
      ]
     },
     "execution_count": 21,
     "metadata": {},
     "output_type": "execute_result"
    }
   ],
   "source": [
    "fruit"
   ]
  },
  {
   "cell_type": "code",
   "execution_count": 22,
   "id": "1c38c6ae",
   "metadata": {},
   "outputs": [],
   "source": [
    "bikes= \"bullet\""
   ]
  },
  {
   "cell_type": "code",
   "execution_count": 23,
   "id": "d93221ac",
   "metadata": {},
   "outputs": [
    {
     "data": {
      "text/plain": [
       "'bullet'"
      ]
     },
     "execution_count": 23,
     "metadata": {},
     "output_type": "execute_result"
    }
   ],
   "source": [
    "bikes"
   ]
  },
  {
   "cell_type": "code",
   "execution_count": 24,
   "id": "fb7fcf30",
   "metadata": {},
   "outputs": [],
   "source": [
    "food=\"biryani\""
   ]
  },
  {
   "cell_type": "code",
   "execution_count": 25,
   "id": "3d3b44a6",
   "metadata": {},
   "outputs": [
    {
     "data": {
      "text/plain": [
       "'biryani'"
      ]
     },
     "execution_count": 25,
     "metadata": {},
     "output_type": "execute_result"
    }
   ],
   "source": [
    "food"
   ]
  },
  {
   "cell_type": "markdown",
   "id": "23ebf2e0",
   "metadata": {},
   "source": []
  },
  {
   "cell_type": "raw",
   "id": "b5da4326",
   "metadata": {},
   "source": []
  },
  {
   "cell_type": "code",
   "execution_count": 26,
   "id": "bf50c41d",
   "metadata": {},
   "outputs": [],
   "source": [
    "number=\"2023\""
   ]
  },
  {
   "cell_type": "code",
   "execution_count": 27,
   "id": "4e7d2eb1",
   "metadata": {},
   "outputs": [
    {
     "data": {
      "text/plain": [
       "'2023'"
      ]
     },
     "execution_count": 27,
     "metadata": {},
     "output_type": "execute_result"
    }
   ],
   "source": [
    "number"
   ]
  },
  {
   "cell_type": "code",
   "execution_count": 28,
   "id": "c8b3e208",
   "metadata": {},
   "outputs": [
    {
     "data": {
      "text/plain": [
       "str"
      ]
     },
     "execution_count": 28,
     "metadata": {},
     "output_type": "execute_result"
    }
   ],
   "source": [
    "type(number)"
   ]
  },
  {
   "cell_type": "code",
   "execution_count": 29,
   "id": "fee62a4d",
   "metadata": {},
   "outputs": [],
   "source": [
    "number1=2023"
   ]
  },
  {
   "cell_type": "code",
   "execution_count": 30,
   "id": "09cd880d",
   "metadata": {},
   "outputs": [
    {
     "data": {
      "text/plain": [
       "2023"
      ]
     },
     "execution_count": 30,
     "metadata": {},
     "output_type": "execute_result"
    }
   ],
   "source": [
    "number1"
   ]
  },
  {
   "cell_type": "code",
   "execution_count": 31,
   "id": "b300b3c3",
   "metadata": {},
   "outputs": [
    {
     "data": {
      "text/plain": [
       "int"
      ]
     },
     "execution_count": 31,
     "metadata": {},
     "output_type": "execute_result"
    }
   ],
   "source": [
    "type(number1)"
   ]
  },
  {
   "cell_type": "code",
   "execution_count": 32,
   "id": "f9feb901",
   "metadata": {},
   "outputs": [
    {
     "ename": "SyntaxError",
     "evalue": "invalid decimal literal (2848437903.py, line 1)",
     "output_type": "error",
     "traceback": [
      "\u001b[1;36m  Cell \u001b[1;32mIn[32], line 1\u001b[1;36m\u001b[0m\n\u001b[1;33m    1number=\"bhavana\"\u001b[0m\n\u001b[1;37m    ^\u001b[0m\n\u001b[1;31mSyntaxError\u001b[0m\u001b[1;31m:\u001b[0m invalid decimal literal\n"
     ]
    }
   ],
   "source": [
    "1number=\"bhavana\""
   ]
  },
  {
   "cell_type": "markdown",
   "id": "f32edd41",
   "metadata": {},
   "source": [
    "## bhavana"
   ]
  },
  {
   "cell_type": "markdown",
   "id": "18b9e134",
   "metadata": {},
   "source": [
    "# $bhavana$ "
   ]
  },
  {
   "cell_type": "markdown",
   "id": "5ad1b679",
   "metadata": {},
   "source": [
    "## vinay"
   ]
  },
  {
   "cell_type": "code",
   "execution_count": 37,
   "id": "559ffe39",
   "metadata": {},
   "outputs": [],
   "source": [
    "s= (1,2,3,4,5,6,7)"
   ]
  },
  {
   "cell_type": "code",
   "execution_count": 38,
   "id": "0dbc7366",
   "metadata": {},
   "outputs": [
    {
     "data": {
      "text/plain": [
       "(1, 2, 3, 4, 5, 6, 7)"
      ]
     },
     "execution_count": 38,
     "metadata": {},
     "output_type": "execute_result"
    }
   ],
   "source": [
    "s"
   ]
  },
  {
   "cell_type": "code",
   "execution_count": 39,
   "id": "68c3c20a",
   "metadata": {},
   "outputs": [
    {
     "data": {
      "text/plain": [
       "tuple"
      ]
     },
     "execution_count": 39,
     "metadata": {},
     "output_type": "execute_result"
    }
   ],
   "source": [
    "type(s)"
   ]
  },
  {
   "cell_type": "code",
   "execution_count": 40,
   "id": "9ddffc7a",
   "metadata": {},
   "outputs": [],
   "source": [
    "s1=(\"bhavana\",\"coding\",\"🙊\",\"🙉\",\"🙈\")"
   ]
  },
  {
   "cell_type": "code",
   "execution_count": 41,
   "id": "e3f443e5",
   "metadata": {},
   "outputs": [
    {
     "data": {
      "text/plain": [
       "('bhavana', 'coding', '🙊', '🙉', '🙈')"
      ]
     },
     "execution_count": 41,
     "metadata": {},
     "output_type": "execute_result"
    }
   ],
   "source": [
    "s1"
   ]
  },
  {
   "cell_type": "code",
   "execution_count": 42,
   "id": "9029b5dd",
   "metadata": {},
   "outputs": [
    {
     "data": {
      "text/plain": [
       "tuple"
      ]
     },
     "execution_count": 42,
     "metadata": {},
     "output_type": "execute_result"
    }
   ],
   "source": [
    "type(s1)"
   ]
  },
  {
   "cell_type": "code",
   "execution_count": 46,
   "id": "f10431f0",
   "metadata": {},
   "outputs": [],
   "source": [
    "car=[\"bmw\",\"volvo\",\"fortuner\",\"crysta\",\"🏎️\",\"🚙\",\"🚗\"]"
   ]
  },
  {
   "cell_type": "code",
   "execution_count": 47,
   "id": "29f9cee9",
   "metadata": {},
   "outputs": [
    {
     "data": {
      "text/plain": [
       "['bmw', 'volvo', 'fortuner', 'crysta', '🏎️', '🚙', '🚗']"
      ]
     },
     "execution_count": 47,
     "metadata": {},
     "output_type": "execute_result"
    }
   ],
   "source": [
    "car"
   ]
  },
  {
   "cell_type": "code",
   "execution_count": 49,
   "id": "51472761",
   "metadata": {},
   "outputs": [
    {
     "data": {
      "text/plain": [
       "list"
      ]
     },
     "execution_count": 49,
     "metadata": {},
     "output_type": "execute_result"
    }
   ],
   "source": [
    "type(car)"
   ]
  },
  {
   "cell_type": "code",
   "execution_count": 50,
   "id": "a24befd4",
   "metadata": {},
   "outputs": [],
   "source": [
    "s2={1,2,3,4,\"vinay\",\"college\",\"coding\",\"bikes\"}"
   ]
  },
  {
   "cell_type": "code",
   "execution_count": 51,
   "id": "83b3eaba",
   "metadata": {},
   "outputs": [
    {
     "data": {
      "text/plain": [
       "{1, 2, 3, 4, 'bikes', 'coding', 'college', 'vinay'}"
      ]
     },
     "execution_count": 51,
     "metadata": {},
     "output_type": "execute_result"
    }
   ],
   "source": [
    "s2"
   ]
  },
  {
   "cell_type": "code",
   "execution_count": 52,
   "id": "0fbfc0b8",
   "metadata": {},
   "outputs": [
    {
     "data": {
      "text/plain": [
       "set"
      ]
     },
     "execution_count": 52,
     "metadata": {},
     "output_type": "execute_result"
    }
   ],
   "source": [
    "type(s2)"
   ]
  },
  {
   "cell_type": "code",
   "execution_count": null,
   "id": "5e724be2",
   "metadata": {},
   "outputs": [],
   "source": []
  }
 ],
 "metadata": {
  "kernelspec": {
   "display_name": "Python 3 (ipykernel)",
   "language": "python",
   "name": "python3"
  },
  "language_info": {
   "codemirror_mode": {
    "name": "ipython",
    "version": 3
   },
   "file_extension": ".py",
   "mimetype": "text/x-python",
   "name": "python",
   "nbconvert_exporter": "python",
   "pygments_lexer": "ipython3",
   "version": "3.10.9"
  }
 },
 "nbformat": 4,
 "nbformat_minor": 5
}
