{
 "cells": [
  {
   "cell_type": "code",
   "execution_count": 1,
   "id": "f033d94c",
   "metadata": {},
   "outputs": [],
   "source": [
    "strings= \"bhavana\",\"car\",\"holiday\",\"bike\",\"college\""
   ]
  },
  {
   "cell_type": "code",
   "execution_count": 2,
   "id": "2ef37756",
   "metadata": {},
   "outputs": [
    {
     "data": {
      "text/plain": [
       "('bhavana', 'car', 'holiday', 'bike', 'college')"
      ]
     },
     "execution_count": 2,
     "metadata": {},
     "output_type": "execute_result"
    }
   ],
   "source": [
    "strings"
   ]
  },
  {
   "cell_type": "code",
   "execution_count": 3,
   "id": "b6942a35",
   "metadata": {},
   "outputs": [
    {
     "name": "stdout",
     "output_type": "stream",
     "text": [
      "('bhavana', 'car', 'holiday', 'bike', 'college')\n"
     ]
    }
   ],
   "source": [
    "print(strings)"
   ]
  },
  {
   "cell_type": "code",
   "execution_count": 5,
   "id": "185b9f34",
   "metadata": {},
   "outputs": [
    {
     "name": "stdout",
     "output_type": "stream",
     "text": [
      "bhavana\n"
     ]
    }
   ],
   "source": [
    "print(\"bhavana\")"
   ]
  },
  {
   "cell_type": "code",
   "execution_count": 6,
   "id": "9458119d",
   "metadata": {},
   "outputs": [
    {
     "name": "stdout",
     "output_type": "stream",
     "text": [
      "mercedes\n"
     ]
    }
   ],
   "source": [
    "print(\"mercedes\")"
   ]
  },
  {
   "cell_type": "code",
   "execution_count": 7,
   "id": "9b100d07",
   "metadata": {},
   "outputs": [
    {
     "name": "stdout",
     "output_type": "stream",
     "text": [
      "kmics\n"
     ]
    }
   ],
   "source": [
    "print(\"kmics\")"
   ]
  },
  {
   "cell_type": "code",
   "execution_count": 8,
   "id": "4a3142d3",
   "metadata": {},
   "outputs": [
    {
     "name": "stdout",
     "output_type": "stream",
     "text": [
      "india\n"
     ]
    }
   ],
   "source": [
    "print(\"india\")"
   ]
  },
  {
   "cell_type": "code",
   "execution_count": 9,
   "id": "82a8521e",
   "metadata": {},
   "outputs": [
    {
     "name": "stdout",
     "output_type": "stream",
     "text": [
      "apple\n"
     ]
    }
   ],
   "source": [
    "print(\"apple\")"
   ]
  },
  {
   "cell_type": "code",
   "execution_count": 10,
   "id": "a849cab2",
   "metadata": {},
   "outputs": [
    {
     "name": "stdout",
     "output_type": "stream",
     "text": [
      "lg\n"
     ]
    }
   ],
   "source": [
    "print(\"lg\")"
   ]
  },
  {
   "cell_type": "code",
   "execution_count": 11,
   "id": "022ee892",
   "metadata": {},
   "outputs": [
    {
     "name": "stdout",
     "output_type": "stream",
     "text": [
      "lion\n"
     ]
    }
   ],
   "source": [
    "print(\"lion\")"
   ]
  },
  {
   "cell_type": "code",
   "execution_count": 12,
   "id": "a4cb7c05",
   "metadata": {},
   "outputs": [
    {
     "name": "stdout",
     "output_type": "stream",
     "text": [
      "python\n"
     ]
    }
   ],
   "source": [
    "print(\"python\")"
   ]
  },
  {
   "cell_type": "markdown",
   "id": "3c9d40a5",
   "metadata": {},
   "source": [
    "### indexing"
   ]
  },
  {
   "cell_type": "code",
   "execution_count": 13,
   "id": "2c86a7b6",
   "metadata": {},
   "outputs": [],
   "source": [
    "s= [1,2,3,4,5,6,7]"
   ]
  },
  {
   "cell_type": "code",
   "execution_count": 15,
   "id": "62dee54a",
   "metadata": {},
   "outputs": [
    {
     "name": "stdout",
     "output_type": "stream",
     "text": [
      "[1, 2, 3, 4, 5, 6, 7]\n"
     ]
    }
   ],
   "source": [
    "print(s)"
   ]
  },
  {
   "cell_type": "code",
   "execution_count": 27,
   "id": "4a8abf35",
   "metadata": {},
   "outputs": [],
   "source": [
    "s1=[\"bhavana\",\"college\",\"book\",\"bike\",\"car\"]"
   ]
  },
  {
   "cell_type": "code",
   "execution_count": 28,
   "id": "c8c03eb4",
   "metadata": {},
   "outputs": [
    {
     "data": {
      "text/plain": [
       "['bhavana', 'college', 'book', 'bike', 'car']"
      ]
     },
     "execution_count": 28,
     "metadata": {},
     "output_type": "execute_result"
    }
   ],
   "source": [
    "s1"
   ]
  },
  {
   "cell_type": "code",
   "execution_count": 29,
   "id": "12b9acfc",
   "metadata": {},
   "outputs": [
    {
     "data": {
      "text/plain": [
       "'bhavana'"
      ]
     },
     "execution_count": 29,
     "metadata": {},
     "output_type": "execute_result"
    }
   ],
   "source": [
    "s1[0]"
   ]
  },
  {
   "cell_type": "code",
   "execution_count": 30,
   "id": "2ddcad37",
   "metadata": {},
   "outputs": [
    {
     "data": {
      "text/plain": [
       "'college'"
      ]
     },
     "execution_count": 30,
     "metadata": {},
     "output_type": "execute_result"
    }
   ],
   "source": [
    "s1[1]"
   ]
  },
  {
   "cell_type": "code",
   "execution_count": 31,
   "id": "2893d12c",
   "metadata": {},
   "outputs": [
    {
     "data": {
      "text/plain": [
       "'book'"
      ]
     },
     "execution_count": 31,
     "metadata": {},
     "output_type": "execute_result"
    }
   ],
   "source": [
    "s1[2]"
   ]
  },
  {
   "cell_type": "code",
   "execution_count": 32,
   "id": "288be3ae",
   "metadata": {},
   "outputs": [
    {
     "data": {
      "text/plain": [
       "'bike'"
      ]
     },
     "execution_count": 32,
     "metadata": {},
     "output_type": "execute_result"
    }
   ],
   "source": [
    "s1[3]"
   ]
  },
  {
   "cell_type": "code",
   "execution_count": 33,
   "id": "81cba901",
   "metadata": {},
   "outputs": [
    {
     "data": {
      "text/plain": [
       "'car'"
      ]
     },
     "execution_count": 33,
     "metadata": {},
     "output_type": "execute_result"
    }
   ],
   "source": [
    "s1[4]"
   ]
  },
  {
   "cell_type": "markdown",
   "id": "34903e38",
   "metadata": {},
   "source": []
  },
  {
   "cell_type": "code",
   "execution_count": 35,
   "id": "a5b71014",
   "metadata": {},
   "outputs": [],
   "source": [
    "s2=[\"mercedes\",\"bmw\",\"volvo\",\"fortuner\",\"crysta\"]"
   ]
  },
  {
   "cell_type": "code",
   "execution_count": 36,
   "id": "4a53545e",
   "metadata": {},
   "outputs": [
    {
     "data": {
      "text/plain": [
       "['mercedes', 'bmw', 'volvo', 'fortuner', 'crysta']"
      ]
     },
     "execution_count": 36,
     "metadata": {},
     "output_type": "execute_result"
    }
   ],
   "source": [
    "s2"
   ]
  },
  {
   "cell_type": "code",
   "execution_count": 39,
   "id": "d33974e9",
   "metadata": {},
   "outputs": [
    {
     "data": {
      "text/plain": [
       "'mercedes'"
      ]
     },
     "execution_count": 39,
     "metadata": {},
     "output_type": "execute_result"
    }
   ],
   "source": [
    "s2[0]"
   ]
  },
  {
   "cell_type": "code",
   "execution_count": 42,
   "id": "44e47a47",
   "metadata": {},
   "outputs": [
    {
     "data": {
      "text/plain": [
       "'bmw'"
      ]
     },
     "execution_count": 42,
     "metadata": {},
     "output_type": "execute_result"
    }
   ],
   "source": [
    "s2[1]"
   ]
  },
  {
   "cell_type": "code",
   "execution_count": 43,
   "id": "5c211b3a",
   "metadata": {},
   "outputs": [
    {
     "data": {
      "text/plain": [
       "'volvo'"
      ]
     },
     "execution_count": 43,
     "metadata": {},
     "output_type": "execute_result"
    }
   ],
   "source": [
    "s2[2]"
   ]
  },
  {
   "cell_type": "code",
   "execution_count": 44,
   "id": "58cd1a70",
   "metadata": {},
   "outputs": [
    {
     "data": {
      "text/plain": [
       "'fortuner'"
      ]
     },
     "execution_count": 44,
     "metadata": {},
     "output_type": "execute_result"
    }
   ],
   "source": [
    "s2[3]"
   ]
  },
  {
   "cell_type": "code",
   "execution_count": 45,
   "id": "ec509ae6",
   "metadata": {},
   "outputs": [
    {
     "data": {
      "text/plain": [
       "'crysta'"
      ]
     },
     "execution_count": 45,
     "metadata": {},
     "output_type": "execute_result"
    }
   ],
   "source": [
    "s2[4]"
   ]
  },
  {
   "cell_type": "code",
   "execution_count": 47,
   "id": "f4c0a180",
   "metadata": {},
   "outputs": [],
   "source": [
    "s3=[\"python\",\"r\",\"sql\",\"excel\",\"powerbi\",\"tableau\"]"
   ]
  },
  {
   "cell_type": "code",
   "execution_count": 48,
   "id": "453d871a",
   "metadata": {},
   "outputs": [
    {
     "data": {
      "text/plain": [
       "['python', 'r', 'sql', 'excel', 'powerbi', 'tableau']"
      ]
     },
     "execution_count": 48,
     "metadata": {},
     "output_type": "execute_result"
    }
   ],
   "source": [
    "s3"
   ]
  },
  {
   "cell_type": "code",
   "execution_count": 49,
   "id": "afbf58ad",
   "metadata": {},
   "outputs": [
    {
     "data": {
      "text/plain": [
       "'python'"
      ]
     },
     "execution_count": 49,
     "metadata": {},
     "output_type": "execute_result"
    }
   ],
   "source": [
    "s3[0]"
   ]
  },
  {
   "cell_type": "code",
   "execution_count": 50,
   "id": "8cdc7cda",
   "metadata": {},
   "outputs": [
    {
     "data": {
      "text/plain": [
       "'r'"
      ]
     },
     "execution_count": 50,
     "metadata": {},
     "output_type": "execute_result"
    }
   ],
   "source": [
    "s3[1]"
   ]
  },
  {
   "cell_type": "code",
   "execution_count": 51,
   "id": "aa2742c0",
   "metadata": {},
   "outputs": [
    {
     "data": {
      "text/plain": [
       "'sql'"
      ]
     },
     "execution_count": 51,
     "metadata": {},
     "output_type": "execute_result"
    }
   ],
   "source": [
    "s3[2]"
   ]
  },
  {
   "cell_type": "code",
   "execution_count": 52,
   "id": "e340d6a2",
   "metadata": {},
   "outputs": [
    {
     "data": {
      "text/plain": [
       "'excel'"
      ]
     },
     "execution_count": 52,
     "metadata": {},
     "output_type": "execute_result"
    }
   ],
   "source": [
    "s3[3]"
   ]
  },
  {
   "cell_type": "code",
   "execution_count": 53,
   "id": "eaeab870",
   "metadata": {},
   "outputs": [
    {
     "data": {
      "text/plain": [
       "'powerbi'"
      ]
     },
     "execution_count": 53,
     "metadata": {},
     "output_type": "execute_result"
    }
   ],
   "source": [
    "s3[4]"
   ]
  },
  {
   "cell_type": "code",
   "execution_count": 54,
   "id": "ebd2b942",
   "metadata": {},
   "outputs": [
    {
     "data": {
      "text/plain": [
       "'tableau'"
      ]
     },
     "execution_count": 54,
     "metadata": {},
     "output_type": "execute_result"
    }
   ],
   "source": [
    "s3[5]"
   ]
  },
  {
   "cell_type": "code",
   "execution_count": 55,
   "id": "a66b6f03",
   "metadata": {},
   "outputs": [],
   "source": [
    "bhavana=(\"i am bhavana from telangana staying in hyderabad\")"
   ]
  },
  {
   "cell_type": "code",
   "execution_count": 56,
   "id": "87a9aa7e",
   "metadata": {},
   "outputs": [
    {
     "name": "stdout",
     "output_type": "stream",
     "text": [
      "i am bhavana from telangana staying in hyderabad\n"
     ]
    }
   ],
   "source": [
    "print(bhavana)"
   ]
  },
  {
   "cell_type": "markdown",
   "id": "166f7c1f",
   "metadata": {},
   "source": [
    "##positive indexing"
   ]
  },
  {
   "cell_type": "code",
   "execution_count": 58,
   "id": "ff2e1d83",
   "metadata": {
    "scrolled": true
   },
   "outputs": [
    {
     "data": {
      "text/plain": [
       "'i'"
      ]
     },
     "execution_count": 58,
     "metadata": {},
     "output_type": "execute_result"
    }
   ],
   "source": [
    "bhavana[0]"
   ]
  },
  {
   "cell_type": "code",
   "execution_count": 59,
   "id": "2138a825",
   "metadata": {},
   "outputs": [
    {
     "data": {
      "text/plain": [
       "' '"
      ]
     },
     "execution_count": 59,
     "metadata": {},
     "output_type": "execute_result"
    }
   ],
   "source": [
    "bhavana[1]"
   ]
  },
  {
   "cell_type": "code",
   "execution_count": 60,
   "id": "5e535179",
   "metadata": {},
   "outputs": [
    {
     "data": {
      "text/plain": [
       "'a'"
      ]
     },
     "execution_count": 60,
     "metadata": {},
     "output_type": "execute_result"
    }
   ],
   "source": [
    "bhavana[2]"
   ]
  },
  {
   "cell_type": "code",
   "execution_count": 61,
   "id": "6d865fde",
   "metadata": {},
   "outputs": [
    {
     "data": {
      "text/plain": [
       "'m'"
      ]
     },
     "execution_count": 61,
     "metadata": {},
     "output_type": "execute_result"
    }
   ],
   "source": [
    "bhavana[3]"
   ]
  },
  {
   "cell_type": "code",
   "execution_count": 62,
   "id": "824b53db",
   "metadata": {},
   "outputs": [
    {
     "data": {
      "text/plain": [
       "' '"
      ]
     },
     "execution_count": 62,
     "metadata": {},
     "output_type": "execute_result"
    }
   ],
   "source": [
    "bhavana[4]"
   ]
  },
  {
   "cell_type": "code",
   "execution_count": 63,
   "id": "b650e76d",
   "metadata": {},
   "outputs": [
    {
     "data": {
      "text/plain": [
       "'b'"
      ]
     },
     "execution_count": 63,
     "metadata": {},
     "output_type": "execute_result"
    }
   ],
   "source": [
    "bhavana[5]"
   ]
  },
  {
   "cell_type": "code",
   "execution_count": 64,
   "id": "21ce8bc9",
   "metadata": {},
   "outputs": [
    {
     "data": {
      "text/plain": [
       "'n'"
      ]
     },
     "execution_count": 64,
     "metadata": {},
     "output_type": "execute_result"
    }
   ],
   "source": [
    "bhavana[10]"
   ]
  },
  {
   "cell_type": "markdown",
   "id": "903872ba",
   "metadata": {},
   "source": [
    "##negative indexing"
   ]
  },
  {
   "cell_type": "code",
   "execution_count": 65,
   "id": "dee6b081",
   "metadata": {},
   "outputs": [
    {
     "data": {
      "text/plain": [
       "'d'"
      ]
     },
     "execution_count": 65,
     "metadata": {},
     "output_type": "execute_result"
    }
   ],
   "source": [
    "bhavana[-1]"
   ]
  },
  {
   "cell_type": "code",
   "execution_count": 66,
   "id": "5eafeda8",
   "metadata": {},
   "outputs": [
    {
     "data": {
      "text/plain": [
       "' '"
      ]
     },
     "execution_count": 66,
     "metadata": {},
     "output_type": "execute_result"
    }
   ],
   "source": [
    "bhavana[-13]"
   ]
  },
  {
   "cell_type": "code",
   "execution_count": 67,
   "id": "37761997",
   "metadata": {},
   "outputs": [
    {
     "data": {
      "text/plain": [
       "'n'"
      ]
     },
     "execution_count": 67,
     "metadata": {},
     "output_type": "execute_result"
    }
   ],
   "source": [
    "bhavana[-15]"
   ]
  },
  {
   "cell_type": "code",
   "execution_count": 69,
   "id": "07dd846d",
   "metadata": {},
   "outputs": [
    {
     "data": {
      "text/plain": [
       "'i am bhavana'"
      ]
     },
     "execution_count": 69,
     "metadata": {},
     "output_type": "execute_result"
    }
   ],
   "source": [
    "bhavana[0:12:1]"
   ]
  },
  {
   "cell_type": "code",
   "execution_count": 70,
   "id": "535d89e3",
   "metadata": {},
   "outputs": [
    {
     "data": {
      "text/plain": [
       "'ia hvn'"
      ]
     },
     "execution_count": 70,
     "metadata": {},
     "output_type": "execute_result"
    }
   ],
   "source": [
    "bhavana[0:12:2]"
   ]
  },
  {
   "cell_type": "code",
   "execution_count": null,
   "id": "3756458f",
   "metadata": {},
   "outputs": [],
   "source": []
  }
 ],
 "metadata": {
  "kernelspec": {
   "display_name": "Python 3 (ipykernel)",
   "language": "python",
   "name": "python3"
  },
  "language_info": {
   "codemirror_mode": {
    "name": "ipython",
    "version": 3
   },
   "file_extension": ".py",
   "mimetype": "text/x-python",
   "name": "python",
   "nbconvert_exporter": "python",
   "pygments_lexer": "ipython3",
   "version": "3.10.9"
  }
 },
 "nbformat": 4,
 "nbformat_minor": 5
}
