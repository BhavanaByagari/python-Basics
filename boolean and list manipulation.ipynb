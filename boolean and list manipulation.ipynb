{
 "cells": [
  {
   "cell_type": "markdown",
   "id": "8d89278e",
   "metadata": {},
   "source": [
    "## boolean, conditions and list manupilation"
   ]
  },
  {
   "cell_type": "code",
   "execution_count": 1,
   "id": "637304a2",
   "metadata": {},
   "outputs": [],
   "source": [
    "a=10\n",
    "b=5"
   ]
  },
  {
   "cell_type": "code",
   "execution_count": 2,
   "id": "a6a5544c",
   "metadata": {},
   "outputs": [
    {
     "name": "stdout",
     "output_type": "stream",
     "text": [
      "False\n"
     ]
    }
   ],
   "source": [
    "print(a<b)"
   ]
  },
  {
   "cell_type": "code",
   "execution_count": 3,
   "id": "5f834bee",
   "metadata": {},
   "outputs": [
    {
     "name": "stdout",
     "output_type": "stream",
     "text": [
      "True\n"
     ]
    }
   ],
   "source": [
    "print(a>b)"
   ]
  },
  {
   "cell_type": "code",
   "execution_count": 4,
   "id": "ea1f02c8",
   "metadata": {},
   "outputs": [],
   "source": [
    "car=15\n",
    "bike=50"
   ]
  },
  {
   "cell_type": "code",
   "execution_count": 5,
   "id": "5521ea41",
   "metadata": {},
   "outputs": [
    {
     "name": "stdout",
     "output_type": "stream",
     "text": [
      "False\n"
     ]
    }
   ],
   "source": [
    "print(car>bike)"
   ]
  },
  {
   "cell_type": "code",
   "execution_count": 6,
   "id": "52384ddb",
   "metadata": {},
   "outputs": [
    {
     "name": "stdout",
     "output_type": "stream",
     "text": [
      "True\n"
     ]
    }
   ],
   "source": [
    "print(car<bike)"
   ]
  },
  {
   "cell_type": "code",
   "execution_count": 10,
   "id": "ab1d4373",
   "metadata": {},
   "outputs": [],
   "source": [
    "eng=80\n",
    "math=65\n",
    "soc=60"
   ]
  },
  {
   "cell_type": "code",
   "execution_count": 11,
   "id": "dc80b81a",
   "metadata": {},
   "outputs": [
    {
     "name": "stdout",
     "output_type": "stream",
     "text": [
      "False\n"
     ]
    }
   ],
   "source": [
    "print(eng>math<soc)"
   ]
  },
  {
   "cell_type": "code",
   "execution_count": 17,
   "id": "b612d0e0",
   "metadata": {
    "scrolled": true
   },
   "outputs": [
    {
     "name": "stdout",
     "output_type": "stream",
     "text": [
      "True\n"
     ]
    }
   ],
   "source": [
    "print(eng>math>soc)"
   ]
  },
  {
   "cell_type": "code",
   "execution_count": null,
   "id": "ebbfc9e9",
   "metadata": {},
   "outputs": [],
   "source": [
    "+,-,*,/,%"
   ]
  },
  {
   "cell_type": "code",
   "execution_count": 18,
   "id": "dd25e30f",
   "metadata": {},
   "outputs": [],
   "source": [
    "a=20\n",
    "b=30"
   ]
  },
  {
   "cell_type": "code",
   "execution_count": 19,
   "id": "aef41870",
   "metadata": {},
   "outputs": [
    {
     "data": {
      "text/plain": [
       "50"
      ]
     },
     "execution_count": 19,
     "metadata": {},
     "output_type": "execute_result"
    }
   ],
   "source": [
    "a+b"
   ]
  },
  {
   "cell_type": "code",
   "execution_count": 20,
   "id": "1b30ce2b",
   "metadata": {},
   "outputs": [
    {
     "data": {
      "text/plain": [
       "-10"
      ]
     },
     "execution_count": 20,
     "metadata": {},
     "output_type": "execute_result"
    }
   ],
   "source": [
    "a-b"
   ]
  },
  {
   "cell_type": "code",
   "execution_count": 21,
   "id": "b1a66a93",
   "metadata": {},
   "outputs": [
    {
     "data": {
      "text/plain": [
       "600"
      ]
     },
     "execution_count": 21,
     "metadata": {},
     "output_type": "execute_result"
    }
   ],
   "source": [
    "a*b"
   ]
  },
  {
   "cell_type": "code",
   "execution_count": 23,
   "id": "ea290791",
   "metadata": {},
   "outputs": [
    {
     "data": {
      "text/plain": [
       "0.6666666666666666"
      ]
     },
     "execution_count": 23,
     "metadata": {},
     "output_type": "execute_result"
    }
   ],
   "source": [
    "a/b"
   ]
  },
  {
   "cell_type": "code",
   "execution_count": 26,
   "id": "d1848c2b",
   "metadata": {},
   "outputs": [
    {
     "data": {
      "text/plain": [
       "20"
      ]
     },
     "execution_count": 26,
     "metadata": {},
     "output_type": "execute_result"
    }
   ],
   "source": [
    "a%b"
   ]
  },
  {
   "cell_type": "code",
   "execution_count": 27,
   "id": "edb53bab",
   "metadata": {},
   "outputs": [],
   "source": [
    "car=20\n",
    "pen=40"
   ]
  },
  {
   "cell_type": "code",
   "execution_count": 29,
   "id": "7c568b17",
   "metadata": {},
   "outputs": [
    {
     "name": "stdout",
     "output_type": "stream",
     "text": [
      "60\n"
     ]
    }
   ],
   "source": [
    "print(car+pen)"
   ]
  },
  {
   "cell_type": "code",
   "execution_count": 30,
   "id": "cd8f33e3",
   "metadata": {},
   "outputs": [
    {
     "name": "stdout",
     "output_type": "stream",
     "text": [
      "we are adding car and pen variable\n"
     ]
    }
   ],
   "source": [
    "print(\"we are adding car and pen variable\")"
   ]
  },
  {
   "cell_type": "code",
   "execution_count": 31,
   "id": "5197833c",
   "metadata": {},
   "outputs": [],
   "source": [
    "car=5\n",
    "pen=10"
   ]
  },
  {
   "cell_type": "code",
   "execution_count": 32,
   "id": "20570801",
   "metadata": {},
   "outputs": [],
   "source": [
    "book=car+pen"
   ]
  },
  {
   "cell_type": "code",
   "execution_count": 38,
   "id": "e5be78d7",
   "metadata": {},
   "outputs": [
    {
     "name": "stdout",
     "output_type": "stream",
     "text": [
      "here we are adding concatination of car and pen: value of book is:- 15\n"
     ]
    }
   ],
   "source": [
    "print(\"here we are adding concatination of car and pen: value of book is:-\",book)"
   ]
  },
  {
   "cell_type": "code",
   "execution_count": 41,
   "id": "18f88117",
   "metadata": {},
   "outputs": [],
   "source": [
    "a=40\n",
    "car=10\n",
    "value=a+car\n",
    "value2=a-car\n",
    "value3=a*car\n",
    "value4=a%car\n",
    "value=a*100/car # this is the percentage of a and car"
   ]
  },
  {
   "cell_type": "code",
   "execution_count": 42,
   "id": "c9ea6957",
   "metadata": {},
   "outputs": [],
   "source": [
    "b=a+car"
   ]
  },
  {
   "cell_type": "code",
   "execution_count": 43,
   "id": "be5da801",
   "metadata": {},
   "outputs": [
    {
     "name": "stdout",
     "output_type": "stream",
     "text": [
      "value of b is:- 30\n"
     ]
    }
   ],
   "source": [
    "print(\"value of b is:-\",b)"
   ]
  },
  {
   "cell_type": "code",
   "execution_count": 44,
   "id": "f05c521f",
   "metadata": {},
   "outputs": [
    {
     "name": "stdout",
     "output_type": "stream",
     "text": [
      "50\n"
     ]
    }
   ],
   "source": [
    "print(a+car)"
   ]
  },
  {
   "cell_type": "code",
   "execution_count": 45,
   "id": "18120c61",
   "metadata": {},
   "outputs": [
    {
     "name": "stdout",
     "output_type": "stream",
     "text": [
      "30\n"
     ]
    }
   ],
   "source": [
    "print(a-car)"
   ]
  },
  {
   "cell_type": "code",
   "execution_count": 46,
   "id": "c92a8ec7",
   "metadata": {},
   "outputs": [
    {
     "name": "stdout",
     "output_type": "stream",
     "text": [
      "400\n"
     ]
    }
   ],
   "source": [
    "print(a*car)"
   ]
  },
  {
   "cell_type": "code",
   "execution_count": 47,
   "id": "b9ff4f35",
   "metadata": {},
   "outputs": [
    {
     "name": "stdout",
     "output_type": "stream",
     "text": [
      "0\n"
     ]
    }
   ],
   "source": [
    "print(a%car)"
   ]
  },
  {
   "cell_type": "code",
   "execution_count": 48,
   "id": "09388f0d",
   "metadata": {},
   "outputs": [
    {
     "name": "stdout",
     "output_type": "stream",
     "text": [
      "400.0\n"
     ]
    }
   ],
   "source": [
    "print(a*100/car)"
   ]
  },
  {
   "cell_type": "markdown",
   "id": "b2e2b731",
   "metadata": {},
   "source": [
    "## list manipuation"
   ]
  },
  {
   "cell_type": "code",
   "execution_count": 49,
   "id": "39c0fbf6",
   "metadata": {},
   "outputs": [],
   "source": [
    "t=(1,2,3,4,5,\"bhavana\")"
   ]
  },
  {
   "cell_type": "code",
   "execution_count": 50,
   "id": "d6bef2cf",
   "metadata": {},
   "outputs": [
    {
     "data": {
      "text/plain": [
       "(1, 2, 3, 4, 5, 'bhavana')"
      ]
     },
     "execution_count": 50,
     "metadata": {},
     "output_type": "execute_result"
    }
   ],
   "source": [
    "t"
   ]
  },
  {
   "cell_type": "code",
   "execution_count": 51,
   "id": "22ff72a0",
   "metadata": {
    "scrolled": true
   },
   "outputs": [
    {
     "name": "stdout",
     "output_type": "stream",
     "text": [
      "(1, 2, 3, 4, 5, 'bhavana')\n"
     ]
    }
   ],
   "source": [
    "print(t)"
   ]
  },
  {
   "cell_type": "code",
   "execution_count": 52,
   "id": "0104b34a",
   "metadata": {},
   "outputs": [
    {
     "data": {
      "text/plain": [
       "tuple"
      ]
     },
     "execution_count": 52,
     "metadata": {},
     "output_type": "execute_result"
    }
   ],
   "source": [
    "type(t)"
   ]
  },
  {
   "cell_type": "code",
   "execution_count": 53,
   "id": "4cc1d55e",
   "metadata": {},
   "outputs": [],
   "source": [
    "t=[1,2,3,4,5,\"bhavana\"]"
   ]
  },
  {
   "cell_type": "code",
   "execution_count": 55,
   "id": "1495cc05",
   "metadata": {},
   "outputs": [],
   "source": [
    "h=list(t)"
   ]
  },
  {
   "cell_type": "code",
   "execution_count": 56,
   "id": "4bbdd99b",
   "metadata": {},
   "outputs": [
    {
     "data": {
      "text/plain": [
       "list"
      ]
     },
     "execution_count": 56,
     "metadata": {},
     "output_type": "execute_result"
    }
   ],
   "source": [
    "type(h)"
   ]
  },
  {
   "cell_type": "code",
   "execution_count": 57,
   "id": "bd0f46e9",
   "metadata": {},
   "outputs": [],
   "source": [
    "t={1,2,3,4,5,\"bhavana\"}"
   ]
  },
  {
   "cell_type": "code",
   "execution_count": 58,
   "id": "17c67dab",
   "metadata": {},
   "outputs": [],
   "source": [
    "b=set(t)"
   ]
  },
  {
   "cell_type": "code",
   "execution_count": 59,
   "id": "9c8fd4aa",
   "metadata": {},
   "outputs": [
    {
     "data": {
      "text/plain": [
       "set"
      ]
     },
     "execution_count": 59,
     "metadata": {},
     "output_type": "execute_result"
    }
   ],
   "source": [
    "type(b)"
   ]
  },
  {
   "cell_type": "code",
   "execution_count": 60,
   "id": "3568bc20",
   "metadata": {},
   "outputs": [],
   "source": [
    "s1=list(b)"
   ]
  },
  {
   "cell_type": "code",
   "execution_count": 61,
   "id": "e5771e0a",
   "metadata": {},
   "outputs": [
    {
     "name": "stdout",
     "output_type": "stream",
     "text": [
      "[1, 2, 3, 4, 5, 'bhavana']\n"
     ]
    }
   ],
   "source": [
    "print(s1)"
   ]
  },
  {
   "cell_type": "code",
   "execution_count": 62,
   "id": "7c7b2c02",
   "metadata": {},
   "outputs": [
    {
     "data": {
      "text/plain": [
       "list"
      ]
     },
     "execution_count": 62,
     "metadata": {},
     "output_type": "execute_result"
    }
   ],
   "source": [
    "type(s1)"
   ]
  },
  {
   "cell_type": "code",
   "execution_count": null,
   "id": "dfa56238",
   "metadata": {},
   "outputs": [],
   "source": []
  }
 ],
 "metadata": {
  "kernelspec": {
   "display_name": "Python 3 (ipykernel)",
   "language": "python",
   "name": "python3"
  },
  "language_info": {
   "codemirror_mode": {
    "name": "ipython",
    "version": 3
   },
   "file_extension": ".py",
   "mimetype": "text/x-python",
   "name": "python",
   "nbconvert_exporter": "python",
   "pygments_lexer": "ipython3",
   "version": "3.10.9"
  }
 },
 "nbformat": 4,
 "nbformat_minor": 5
}
